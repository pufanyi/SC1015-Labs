{
 "cells": [
  {
   "cell_type": "code",
   "execution_count": 18,
   "outputs": [],
   "source": [
    "import pandas as pd"
   ],
   "metadata": {
    "collapsed": false
   }
  },
  {
   "cell_type": "markdown",
   "source": [
    "# Problem Set 1\n",
    "\n",
    "Download the dataset train.csv posted with this Exercise. This dataset is collected from Kaggle. You may also want to\n",
    "download it directly from the following Kaggle Competition (Login > Go to “Data” > “Download All” > train.csv). Either\n",
    "way, read the competition description (no login required) to get an idea about what the target Data Science task is.\n",
    "\n",
    "Source : Kaggle Competition : House Prices : [https://www.kaggle.com/c/house-prices-advanced-regression-techniques](https://www.kaggle.com/c/house-prices-advanced-regression-techniques)"
   ],
   "metadata": {
    "collapsed": false
   }
  },
  {
   "cell_type": "markdown",
   "source": [
    "## Problem A\n",
    "\n",
    "Import the “train.csv” data you downloaded (either from NTU Learn or Kaggle) in Jupyter Notebook."
   ],
   "metadata": {
    "collapsed": false
   }
  },
  {
   "cell_type": "code",
   "execution_count": 19,
   "outputs": [
    {
     "data": {
      "text/plain": "   Id  MSSubClass MSZoning  LotFrontage  LotArea Street Alley LotShape  \\\n0   1          60       RL         65.0     8450   Pave   NaN      Reg   \n1   2          20       RL         80.0     9600   Pave   NaN      Reg   \n2   3          60       RL         68.0    11250   Pave   NaN      IR1   \n3   4          70       RL         60.0     9550   Pave   NaN      IR1   \n4   5          60       RL         84.0    14260   Pave   NaN      IR1   \n\n  LandContour Utilities  ... PoolArea PoolQC Fence MiscFeature MiscVal MoSold  \\\n0         Lvl    AllPub  ...        0    NaN   NaN         NaN       0      2   \n1         Lvl    AllPub  ...        0    NaN   NaN         NaN       0      5   \n2         Lvl    AllPub  ...        0    NaN   NaN         NaN       0      9   \n3         Lvl    AllPub  ...        0    NaN   NaN         NaN       0      2   \n4         Lvl    AllPub  ...        0    NaN   NaN         NaN       0     12   \n\n  YrSold  SaleType  SaleCondition  SalePrice  \n0   2008        WD         Normal     208500  \n1   2007        WD         Normal     181500  \n2   2008        WD         Normal     223500  \n3   2006        WD        Abnorml     140000  \n4   2008        WD         Normal     250000  \n\n[5 rows x 81 columns]",
      "text/html": "<div>\n<style scoped>\n    .dataframe tbody tr th:only-of-type {\n        vertical-align: middle;\n    }\n\n    .dataframe tbody tr th {\n        vertical-align: top;\n    }\n\n    .dataframe thead th {\n        text-align: right;\n    }\n</style>\n<table border=\"1\" class=\"dataframe\">\n  <thead>\n    <tr style=\"text-align: right;\">\n      <th></th>\n      <th>Id</th>\n      <th>MSSubClass</th>\n      <th>MSZoning</th>\n      <th>LotFrontage</th>\n      <th>LotArea</th>\n      <th>Street</th>\n      <th>Alley</th>\n      <th>LotShape</th>\n      <th>LandContour</th>\n      <th>Utilities</th>\n      <th>...</th>\n      <th>PoolArea</th>\n      <th>PoolQC</th>\n      <th>Fence</th>\n      <th>MiscFeature</th>\n      <th>MiscVal</th>\n      <th>MoSold</th>\n      <th>YrSold</th>\n      <th>SaleType</th>\n      <th>SaleCondition</th>\n      <th>SalePrice</th>\n    </tr>\n  </thead>\n  <tbody>\n    <tr>\n      <th>0</th>\n      <td>1</td>\n      <td>60</td>\n      <td>RL</td>\n      <td>65.0</td>\n      <td>8450</td>\n      <td>Pave</td>\n      <td>NaN</td>\n      <td>Reg</td>\n      <td>Lvl</td>\n      <td>AllPub</td>\n      <td>...</td>\n      <td>0</td>\n      <td>NaN</td>\n      <td>NaN</td>\n      <td>NaN</td>\n      <td>0</td>\n      <td>2</td>\n      <td>2008</td>\n      <td>WD</td>\n      <td>Normal</td>\n      <td>208500</td>\n    </tr>\n    <tr>\n      <th>1</th>\n      <td>2</td>\n      <td>20</td>\n      <td>RL</td>\n      <td>80.0</td>\n      <td>9600</td>\n      <td>Pave</td>\n      <td>NaN</td>\n      <td>Reg</td>\n      <td>Lvl</td>\n      <td>AllPub</td>\n      <td>...</td>\n      <td>0</td>\n      <td>NaN</td>\n      <td>NaN</td>\n      <td>NaN</td>\n      <td>0</td>\n      <td>5</td>\n      <td>2007</td>\n      <td>WD</td>\n      <td>Normal</td>\n      <td>181500</td>\n    </tr>\n    <tr>\n      <th>2</th>\n      <td>3</td>\n      <td>60</td>\n      <td>RL</td>\n      <td>68.0</td>\n      <td>11250</td>\n      <td>Pave</td>\n      <td>NaN</td>\n      <td>IR1</td>\n      <td>Lvl</td>\n      <td>AllPub</td>\n      <td>...</td>\n      <td>0</td>\n      <td>NaN</td>\n      <td>NaN</td>\n      <td>NaN</td>\n      <td>0</td>\n      <td>9</td>\n      <td>2008</td>\n      <td>WD</td>\n      <td>Normal</td>\n      <td>223500</td>\n    </tr>\n    <tr>\n      <th>3</th>\n      <td>4</td>\n      <td>70</td>\n      <td>RL</td>\n      <td>60.0</td>\n      <td>9550</td>\n      <td>Pave</td>\n      <td>NaN</td>\n      <td>IR1</td>\n      <td>Lvl</td>\n      <td>AllPub</td>\n      <td>...</td>\n      <td>0</td>\n      <td>NaN</td>\n      <td>NaN</td>\n      <td>NaN</td>\n      <td>0</td>\n      <td>2</td>\n      <td>2006</td>\n      <td>WD</td>\n      <td>Abnorml</td>\n      <td>140000</td>\n    </tr>\n    <tr>\n      <th>4</th>\n      <td>5</td>\n      <td>60</td>\n      <td>RL</td>\n      <td>84.0</td>\n      <td>14260</td>\n      <td>Pave</td>\n      <td>NaN</td>\n      <td>IR1</td>\n      <td>Lvl</td>\n      <td>AllPub</td>\n      <td>...</td>\n      <td>0</td>\n      <td>NaN</td>\n      <td>NaN</td>\n      <td>NaN</td>\n      <td>0</td>\n      <td>12</td>\n      <td>2008</td>\n      <td>WD</td>\n      <td>Normal</td>\n      <td>250000</td>\n    </tr>\n  </tbody>\n</table>\n<p>5 rows × 81 columns</p>\n</div>"
     },
     "execution_count": 19,
     "metadata": {},
     "output_type": "execute_result"
    }
   ],
   "source": [
    "train_csv_data = pd.read_csv(\"train.csv\")\n",
    "train_csv_data.head()"
   ],
   "metadata": {
    "collapsed": false
   }
  },
  {
   "cell_type": "markdown",
   "source": [
    "## Problem B\n",
    "\n",
    "How many observations (rows) and variables (columns) are in the above dataset? Check the “shape”."
   ],
   "metadata": {
    "collapsed": false
   }
  },
  {
   "cell_type": "code",
   "execution_count": 20,
   "outputs": [
    {
     "name": "stdout",
     "output_type": "stream",
     "text": [
      "The size of train_csv_data is (1460, 81)\n"
     ]
    }
   ],
   "source": [
    "print(\"The size of train_csv_data is\", train_csv_data.shape)"
   ],
   "metadata": {
    "collapsed": false
   }
  },
  {
   "cell_type": "markdown",
   "source": [
    "So there are 1460 rows and 81 columns."
   ],
   "metadata": {
    "collapsed": false
   }
  },
  {
   "cell_type": "markdown",
   "source": [
    "## Problem C\n",
    "\n",
    "What are the data types (“dtypes”) – Numeric/Categorical – of the variables (columns) in the dataset?"
   ],
   "metadata": {
    "collapsed": false
   }
  },
  {
   "cell_type": "code",
   "execution_count": 21,
   "outputs": [
    {
     "data": {
      "text/plain": "Id                 int64\nMSSubClass         int64\nMSZoning          object\nLotFrontage      float64\nLotArea            int64\n                  ...   \nMoSold             int64\nYrSold             int64\nSaleType          object\nSaleCondition     object\nSalePrice          int64\nLength: 81, dtype: object"
     },
     "execution_count": 21,
     "metadata": {},
     "output_type": "execute_result"
    }
   ],
   "source": [
    "train_csv_data.dtypes"
   ],
   "metadata": {
    "collapsed": false
   }
  },
  {
   "cell_type": "markdown",
   "source": [
    "## Problem D\n",
    "\n",
    "What does the .info() method do? Use the .info() method on the imported dataset to check this out."
   ],
   "metadata": {
    "collapsed": false
   }
  },
  {
   "cell_type": "code",
   "execution_count": 22,
   "outputs": [
    {
     "name": "stdout",
     "output_type": "stream",
     "text": [
      "<class 'pandas.core.frame.DataFrame'>\n",
      "RangeIndex: 1460 entries, 0 to 1459\n",
      "Data columns (total 81 columns):\n",
      " #   Column         Non-Null Count  Dtype  \n",
      "---  ------         --------------  -----  \n",
      " 0   Id             1460 non-null   int64  \n",
      " 1   MSSubClass     1460 non-null   int64  \n",
      " 2   MSZoning       1460 non-null   object \n",
      " 3   LotFrontage    1201 non-null   float64\n",
      " 4   LotArea        1460 non-null   int64  \n",
      " 5   Street         1460 non-null   object \n",
      " 6   Alley          91 non-null     object \n",
      " 7   LotShape       1460 non-null   object \n",
      " 8   LandContour    1460 non-null   object \n",
      " 9   Utilities      1460 non-null   object \n",
      " 10  LotConfig      1460 non-null   object \n",
      " 11  LandSlope      1460 non-null   object \n",
      " 12  Neighborhood   1460 non-null   object \n",
      " 13  Condition1     1460 non-null   object \n",
      " 14  Condition2     1460 non-null   object \n",
      " 15  BldgType       1460 non-null   object \n",
      " 16  HouseStyle     1460 non-null   object \n",
      " 17  OverallQual    1460 non-null   int64  \n",
      " 18  OverallCond    1460 non-null   int64  \n",
      " 19  YearBuilt      1460 non-null   int64  \n",
      " 20  YearRemodAdd   1460 non-null   int64  \n",
      " 21  RoofStyle      1460 non-null   object \n",
      " 22  RoofMatl       1460 non-null   object \n",
      " 23  Exterior1st    1460 non-null   object \n",
      " 24  Exterior2nd    1460 non-null   object \n",
      " 25  MasVnrType     1452 non-null   object \n",
      " 26  MasVnrArea     1452 non-null   float64\n",
      " 27  ExterQual      1460 non-null   object \n",
      " 28  ExterCond      1460 non-null   object \n",
      " 29  Foundation     1460 non-null   object \n",
      " 30  BsmtQual       1423 non-null   object \n",
      " 31  BsmtCond       1423 non-null   object \n",
      " 32  BsmtExposure   1422 non-null   object \n",
      " 33  BsmtFinType1   1423 non-null   object \n",
      " 34  BsmtFinSF1     1460 non-null   int64  \n",
      " 35  BsmtFinType2   1422 non-null   object \n",
      " 36  BsmtFinSF2     1460 non-null   int64  \n",
      " 37  BsmtUnfSF      1460 non-null   int64  \n",
      " 38  TotalBsmtSF    1460 non-null   int64  \n",
      " 39  Heating        1460 non-null   object \n",
      " 40  HeatingQC      1460 non-null   object \n",
      " 41  CentralAir     1460 non-null   object \n",
      " 42  Electrical     1459 non-null   object \n",
      " 43  1stFlrSF       1460 non-null   int64  \n",
      " 44  2ndFlrSF       1460 non-null   int64  \n",
      " 45  LowQualFinSF   1460 non-null   int64  \n",
      " 46  GrLivArea      1460 non-null   int64  \n",
      " 47  BsmtFullBath   1460 non-null   int64  \n",
      " 48  BsmtHalfBath   1460 non-null   int64  \n",
      " 49  FullBath       1460 non-null   int64  \n",
      " 50  HalfBath       1460 non-null   int64  \n",
      " 51  BedroomAbvGr   1460 non-null   int64  \n",
      " 52  KitchenAbvGr   1460 non-null   int64  \n",
      " 53  KitchenQual    1460 non-null   object \n",
      " 54  TotRmsAbvGrd   1460 non-null   int64  \n",
      " 55  Functional     1460 non-null   object \n",
      " 56  Fireplaces     1460 non-null   int64  \n",
      " 57  FireplaceQu    770 non-null    object \n",
      " 58  GarageType     1379 non-null   object \n",
      " 59  GarageYrBlt    1379 non-null   float64\n",
      " 60  GarageFinish   1379 non-null   object \n",
      " 61  GarageCars     1460 non-null   int64  \n",
      " 62  GarageArea     1460 non-null   int64  \n",
      " 63  GarageQual     1379 non-null   object \n",
      " 64  GarageCond     1379 non-null   object \n",
      " 65  PavedDrive     1460 non-null   object \n",
      " 66  WoodDeckSF     1460 non-null   int64  \n",
      " 67  OpenPorchSF    1460 non-null   int64  \n",
      " 68  EnclosedPorch  1460 non-null   int64  \n",
      " 69  3SsnPorch      1460 non-null   int64  \n",
      " 70  ScreenPorch    1460 non-null   int64  \n",
      " 71  PoolArea       1460 non-null   int64  \n",
      " 72  PoolQC         7 non-null      object \n",
      " 73  Fence          281 non-null    object \n",
      " 74  MiscFeature    54 non-null     object \n",
      " 75  MiscVal        1460 non-null   int64  \n",
      " 76  MoSold         1460 non-null   int64  \n",
      " 77  YrSold         1460 non-null   int64  \n",
      " 78  SaleType       1460 non-null   object \n",
      " 79  SaleCondition  1460 non-null   object \n",
      " 80  SalePrice      1460 non-null   int64  \n",
      "dtypes: float64(3), int64(35), object(43)\n",
      "memory usage: 924.0+ KB\n"
     ]
    }
   ],
   "source": [
    "train_csv_data.info()"
   ],
   "metadata": {
    "collapsed": false
   }
  },
  {
   "cell_type": "markdown",
   "source": [
    "## Problem E\n",
    "\n",
    "What does the .describe() method do? Use the .describe() method on the imported dataset to check."
   ],
   "metadata": {
    "collapsed": false
   }
  },
  {
   "cell_type": "code",
   "execution_count": 23,
   "outputs": [
    {
     "data": {
      "text/plain": "                Id   MSSubClass  LotFrontage        LotArea  OverallQual  \\\ncount  1460.000000  1460.000000  1201.000000    1460.000000  1460.000000   \nmean    730.500000    56.897260    70.049958   10516.828082     6.099315   \nstd     421.610009    42.300571    24.284752    9981.264932     1.382997   \nmin       1.000000    20.000000    21.000000    1300.000000     1.000000   \n25%     365.750000    20.000000    59.000000    7553.500000     5.000000   \n50%     730.500000    50.000000    69.000000    9478.500000     6.000000   \n75%    1095.250000    70.000000    80.000000   11601.500000     7.000000   \nmax    1460.000000   190.000000   313.000000  215245.000000    10.000000   \n\n       OverallCond    YearBuilt  YearRemodAdd   MasVnrArea   BsmtFinSF1  ...  \\\ncount  1460.000000  1460.000000   1460.000000  1452.000000  1460.000000  ...   \nmean      5.575342  1971.267808   1984.865753   103.685262   443.639726  ...   \nstd       1.112799    30.202904     20.645407   181.066207   456.098091  ...   \nmin       1.000000  1872.000000   1950.000000     0.000000     0.000000  ...   \n25%       5.000000  1954.000000   1967.000000     0.000000     0.000000  ...   \n50%       5.000000  1973.000000   1994.000000     0.000000   383.500000  ...   \n75%       6.000000  2000.000000   2004.000000   166.000000   712.250000  ...   \nmax       9.000000  2010.000000   2010.000000  1600.000000  5644.000000  ...   \n\n        WoodDeckSF  OpenPorchSF  EnclosedPorch    3SsnPorch  ScreenPorch  \\\ncount  1460.000000  1460.000000    1460.000000  1460.000000  1460.000000   \nmean     94.244521    46.660274      21.954110     3.409589    15.060959   \nstd     125.338794    66.256028      61.119149    29.317331    55.757415   \nmin       0.000000     0.000000       0.000000     0.000000     0.000000   \n25%       0.000000     0.000000       0.000000     0.000000     0.000000   \n50%       0.000000    25.000000       0.000000     0.000000     0.000000   \n75%     168.000000    68.000000       0.000000     0.000000     0.000000   \nmax     857.000000   547.000000     552.000000   508.000000   480.000000   \n\n          PoolArea       MiscVal       MoSold       YrSold      SalePrice  \ncount  1460.000000   1460.000000  1460.000000  1460.000000    1460.000000  \nmean      2.758904     43.489041     6.321918  2007.815753  180921.195890  \nstd      40.177307    496.123024     2.703626     1.328095   79442.502883  \nmin       0.000000      0.000000     1.000000  2006.000000   34900.000000  \n25%       0.000000      0.000000     5.000000  2007.000000  129975.000000  \n50%       0.000000      0.000000     6.000000  2008.000000  163000.000000  \n75%       0.000000      0.000000     8.000000  2009.000000  214000.000000  \nmax     738.000000  15500.000000    12.000000  2010.000000  755000.000000  \n\n[8 rows x 38 columns]",
      "text/html": "<div>\n<style scoped>\n    .dataframe tbody tr th:only-of-type {\n        vertical-align: middle;\n    }\n\n    .dataframe tbody tr th {\n        vertical-align: top;\n    }\n\n    .dataframe thead th {\n        text-align: right;\n    }\n</style>\n<table border=\"1\" class=\"dataframe\">\n  <thead>\n    <tr style=\"text-align: right;\">\n      <th></th>\n      <th>Id</th>\n      <th>MSSubClass</th>\n      <th>LotFrontage</th>\n      <th>LotArea</th>\n      <th>OverallQual</th>\n      <th>OverallCond</th>\n      <th>YearBuilt</th>\n      <th>YearRemodAdd</th>\n      <th>MasVnrArea</th>\n      <th>BsmtFinSF1</th>\n      <th>...</th>\n      <th>WoodDeckSF</th>\n      <th>OpenPorchSF</th>\n      <th>EnclosedPorch</th>\n      <th>3SsnPorch</th>\n      <th>ScreenPorch</th>\n      <th>PoolArea</th>\n      <th>MiscVal</th>\n      <th>MoSold</th>\n      <th>YrSold</th>\n      <th>SalePrice</th>\n    </tr>\n  </thead>\n  <tbody>\n    <tr>\n      <th>count</th>\n      <td>1460.000000</td>\n      <td>1460.000000</td>\n      <td>1201.000000</td>\n      <td>1460.000000</td>\n      <td>1460.000000</td>\n      <td>1460.000000</td>\n      <td>1460.000000</td>\n      <td>1460.000000</td>\n      <td>1452.000000</td>\n      <td>1460.000000</td>\n      <td>...</td>\n      <td>1460.000000</td>\n      <td>1460.000000</td>\n      <td>1460.000000</td>\n      <td>1460.000000</td>\n      <td>1460.000000</td>\n      <td>1460.000000</td>\n      <td>1460.000000</td>\n      <td>1460.000000</td>\n      <td>1460.000000</td>\n      <td>1460.000000</td>\n    </tr>\n    <tr>\n      <th>mean</th>\n      <td>730.500000</td>\n      <td>56.897260</td>\n      <td>70.049958</td>\n      <td>10516.828082</td>\n      <td>6.099315</td>\n      <td>5.575342</td>\n      <td>1971.267808</td>\n      <td>1984.865753</td>\n      <td>103.685262</td>\n      <td>443.639726</td>\n      <td>...</td>\n      <td>94.244521</td>\n      <td>46.660274</td>\n      <td>21.954110</td>\n      <td>3.409589</td>\n      <td>15.060959</td>\n      <td>2.758904</td>\n      <td>43.489041</td>\n      <td>6.321918</td>\n      <td>2007.815753</td>\n      <td>180921.195890</td>\n    </tr>\n    <tr>\n      <th>std</th>\n      <td>421.610009</td>\n      <td>42.300571</td>\n      <td>24.284752</td>\n      <td>9981.264932</td>\n      <td>1.382997</td>\n      <td>1.112799</td>\n      <td>30.202904</td>\n      <td>20.645407</td>\n      <td>181.066207</td>\n      <td>456.098091</td>\n      <td>...</td>\n      <td>125.338794</td>\n      <td>66.256028</td>\n      <td>61.119149</td>\n      <td>29.317331</td>\n      <td>55.757415</td>\n      <td>40.177307</td>\n      <td>496.123024</td>\n      <td>2.703626</td>\n      <td>1.328095</td>\n      <td>79442.502883</td>\n    </tr>\n    <tr>\n      <th>min</th>\n      <td>1.000000</td>\n      <td>20.000000</td>\n      <td>21.000000</td>\n      <td>1300.000000</td>\n      <td>1.000000</td>\n      <td>1.000000</td>\n      <td>1872.000000</td>\n      <td>1950.000000</td>\n      <td>0.000000</td>\n      <td>0.000000</td>\n      <td>...</td>\n      <td>0.000000</td>\n      <td>0.000000</td>\n      <td>0.000000</td>\n      <td>0.000000</td>\n      <td>0.000000</td>\n      <td>0.000000</td>\n      <td>0.000000</td>\n      <td>1.000000</td>\n      <td>2006.000000</td>\n      <td>34900.000000</td>\n    </tr>\n    <tr>\n      <th>25%</th>\n      <td>365.750000</td>\n      <td>20.000000</td>\n      <td>59.000000</td>\n      <td>7553.500000</td>\n      <td>5.000000</td>\n      <td>5.000000</td>\n      <td>1954.000000</td>\n      <td>1967.000000</td>\n      <td>0.000000</td>\n      <td>0.000000</td>\n      <td>...</td>\n      <td>0.000000</td>\n      <td>0.000000</td>\n      <td>0.000000</td>\n      <td>0.000000</td>\n      <td>0.000000</td>\n      <td>0.000000</td>\n      <td>0.000000</td>\n      <td>5.000000</td>\n      <td>2007.000000</td>\n      <td>129975.000000</td>\n    </tr>\n    <tr>\n      <th>50%</th>\n      <td>730.500000</td>\n      <td>50.000000</td>\n      <td>69.000000</td>\n      <td>9478.500000</td>\n      <td>6.000000</td>\n      <td>5.000000</td>\n      <td>1973.000000</td>\n      <td>1994.000000</td>\n      <td>0.000000</td>\n      <td>383.500000</td>\n      <td>...</td>\n      <td>0.000000</td>\n      <td>25.000000</td>\n      <td>0.000000</td>\n      <td>0.000000</td>\n      <td>0.000000</td>\n      <td>0.000000</td>\n      <td>0.000000</td>\n      <td>6.000000</td>\n      <td>2008.000000</td>\n      <td>163000.000000</td>\n    </tr>\n    <tr>\n      <th>75%</th>\n      <td>1095.250000</td>\n      <td>70.000000</td>\n      <td>80.000000</td>\n      <td>11601.500000</td>\n      <td>7.000000</td>\n      <td>6.000000</td>\n      <td>2000.000000</td>\n      <td>2004.000000</td>\n      <td>166.000000</td>\n      <td>712.250000</td>\n      <td>...</td>\n      <td>168.000000</td>\n      <td>68.000000</td>\n      <td>0.000000</td>\n      <td>0.000000</td>\n      <td>0.000000</td>\n      <td>0.000000</td>\n      <td>0.000000</td>\n      <td>8.000000</td>\n      <td>2009.000000</td>\n      <td>214000.000000</td>\n    </tr>\n    <tr>\n      <th>max</th>\n      <td>1460.000000</td>\n      <td>190.000000</td>\n      <td>313.000000</td>\n      <td>215245.000000</td>\n      <td>10.000000</td>\n      <td>9.000000</td>\n      <td>2010.000000</td>\n      <td>2010.000000</td>\n      <td>1600.000000</td>\n      <td>5644.000000</td>\n      <td>...</td>\n      <td>857.000000</td>\n      <td>547.000000</td>\n      <td>552.000000</td>\n      <td>508.000000</td>\n      <td>480.000000</td>\n      <td>738.000000</td>\n      <td>15500.000000</td>\n      <td>12.000000</td>\n      <td>2010.000000</td>\n      <td>755000.000000</td>\n    </tr>\n  </tbody>\n</table>\n<p>8 rows × 38 columns</p>\n</div>"
     },
     "execution_count": 23,
     "metadata": {},
     "output_type": "execute_result"
    }
   ],
   "source": [
    "train_csv_data.describe()"
   ],
   "metadata": {
    "collapsed": false
   }
  },
  {
   "cell_type": "markdown",
   "source": [
    "# Problem Set 2\n",
    "\n",
    "Check Summer Olympic 2016 medal tally : [https://en.wikipedia.org/wiki/2016_Summer_Olympics_medal_table](https://en.wikipedia.org/wiki/2016_Summer_Olympics_medal_table)"
   ],
   "metadata": {
    "collapsed": false
   }
  },
  {
   "cell_type": "markdown",
   "source": [
    "## Problem A\n",
    "\n",
    "Import the Wikipedia page in Jupyter Notebook (check M1 DataAcquisition.ipynb for hints about this)."
   ],
   "metadata": {
    "collapsed": false
   }
  },
  {
   "cell_type": "code",
   "execution_count": 24,
   "outputs": [
    {
     "name": "stdout",
     "output_type": "stream",
     "text": [
      "Type of summer_olympics_website is <class 'list'>\n"
     ]
    }
   ],
   "source": [
    "summer_olympics_website = pd.read_html(\n",
    "    \"https://en.wikipedia.org/wiki/2016_Summer_Olympics_medal_table\"\n",
    ")\n",
    "print(\"Type of summer_olympics_website is\", type(summer_olympics_website))"
   ],
   "metadata": {
    "collapsed": false
   }
  },
  {
   "cell_type": "markdown",
   "source": [
    "## Problem B\n",
    "\n",
    "How many tables are in this Wikipedia page? Check the “len” of the imported data/page to find this out."
   ],
   "metadata": {
    "collapsed": false
   }
  },
  {
   "cell_type": "code",
   "execution_count": 25,
   "outputs": [
    {
     "name": "stdout",
     "output_type": "stream",
     "text": [
      "There are 7 tables in the Wikipedia page.\n"
     ]
    }
   ],
   "source": [
    "print(\"There are\", len(summer_olympics_website), \"tables in the Wikipedia page.\")"
   ],
   "metadata": {
    "collapsed": false
   }
  },
  {
   "cell_type": "markdown",
   "source": [
    "## Problem C\n",
    "\n",
    "Which one is the actual “2016 Summer Olympics medal table”? Explore all tables in the data to know."
   ],
   "metadata": {
    "collapsed": false
   }
  },
  {
   "cell_type": "code",
   "execution_count": 26,
   "outputs": [
    {
     "name": "stdout",
     "output_type": "stream",
     "text": [
      "The 0-th table.\n",
      "  2016 Summer Olympics medals 2016 Summer Olympics medals.1\n",
      "0                    Location        Rio de Janeiro, Brazil\n",
      "1                  Highlights                    Highlights\n",
      "2            Most gold medals            United States (46)\n",
      "\n",
      "The 1-th table.\n",
      "                                                   0\n",
      "0                                Part of a series on\n",
      "1                               2016 Summer Olympics\n",
      "2  Bid process (bid details) Development (venues,...\n",
      "\n",
      "The 2-th table.\n",
      "  Rank            NOC  Gold  Silver  Bronze  Total\n",
      "0    1  United States    46      37      38    121\n",
      "1    2  Great Britain    27      23      17     67\n",
      "2    3          China    26      18      26     70\n",
      "\n",
      "The 3-th table.\n",
      "                                         Ruling date  \\\n",
      "0  List of official changes in medal standings (d...   \n",
      "1                                     18 August 2016   \n",
      "2                                     18 August 2016   \n",
      "\n",
      "                                         Sport/Event  \\\n",
      "0  List of official changes in medal standings (d...   \n",
      "1                          Weightlifting Men's 69 kg   \n",
      "2                          Weightlifting Men's 69 kg   \n",
      "\n",
      "                                       Athlete (NOC)  \\\n",
      "0  List of official changes in medal standings (d...   \n",
      "1                            Izzat Artykov (KGZ) DSQ   \n",
      "2                         Luis Javier Mosquera (COL)   \n",
      "\n",
      "                                          Unnamed: 3  \\\n",
      "0  List of official changes in medal standings (d...   \n",
      "1                                                NaN   \n",
      "2                                                NaN   \n",
      "\n",
      "                                          Unnamed: 4  \\\n",
      "0  List of official changes in medal standings (d...   \n",
      "1                                                NaN   \n",
      "2                                                NaN   \n",
      "\n",
      "                                          Unnamed: 5  \\\n",
      "0  List of official changes in medal standings (d...   \n",
      "1                                                 −1   \n",
      "2                                                 +1   \n",
      "\n",
      "                                               Total  \\\n",
      "0  List of official changes in medal standings (d...   \n",
      "1                                                 −1   \n",
      "2                                                 +1   \n",
      "\n",
      "                                             Comment  \\\n",
      "0  List of official changes in medal standings (d...   \n",
      "1  On 18 August 2016, Kyrgyz weightlifter Izzat A...   \n",
      "2  On 18 August 2016, Kyrgyz weightlifter Izzat A...   \n",
      "\n",
      "                                          Unnamed: 8  \n",
      "0  List of official changes in medal standings (d...  \n",
      "1                                                NaN  \n",
      "2                                                NaN  \n",
      "\n",
      "The 4-th table.\n",
      "                      vte Olympic Games medal tables  \\\n",
      "0  Olympic medal All-time Olympic Games medal tab...   \n",
      "1                               Summer Olympic Games   \n",
      "2                               Winter Olympic Games   \n",
      "\n",
      "                    vte Olympic Games medal tables.1  \n",
      "0  Olympic medal All-time Olympic Games medal tab...  \n",
      "1  1896 1900 1904 1908 1912 1920 1924 1928 1932 1...  \n",
      "2  1924 1928 1932 1936 1948 1952 1956 1960 1964 1...  \n",
      "\n",
      "The 5-th table.\n",
      "  vte Events at the 2016 Summer Olympics (Rio de Janeiro)  \\\n",
      "0  Archery Athletics Badminton Basketball Boxing ...        \n",
      "1  Chronological summary Medal table List of meda...        \n",
      "\n",
      "  vte Events at the 2016 Summer Olympics (Rio de Janeiro).1  \n",
      "0  Archery Athletics Badminton Basketball Boxing ...         \n",
      "1  Chronological summary Medal table List of meda...         \n",
      "\n",
      "The 6-th table.\n",
      "     vte Summer Olympics medal table leaders by year  \\\n",
      "0  1896: United States 1900: France 1904: United ...   \n",
      "\n",
      "   vte Summer Olympics medal table leaders by year.1  \n",
      "0  1896: United States 1900: France 1904: United ...  \n",
      "\n"
     ]
    }
   ],
   "source": [
    "for index, tables in enumerate(summer_olympics_website):\n",
    "    print(\"The \" + str(index) + \"-th table.\")\n",
    "    print(tables.head(3))\n",
    "    print()"
   ],
   "metadata": {
    "collapsed": false
   }
  },
  {
   "cell_type": "markdown",
   "source": [
    "After checking all tables, we could found that the 2-th table is the answer."
   ],
   "metadata": {
    "collapsed": false
   }
  },
  {
   "cell_type": "code",
   "execution_count": 27,
   "outputs": [
    {
     "data": {
      "text/plain": "  Rank            NOC  Gold  Silver  Bronze  Total\n0    1  United States    46      37      38    121\n1    2  Great Britain    27      23      17     67\n2    3          China    26      18      26     70\n3    4         Russia    19      17      20     56\n4    5        Germany    17      10      15     42",
      "text/html": "<div>\n<style scoped>\n    .dataframe tbody tr th:only-of-type {\n        vertical-align: middle;\n    }\n\n    .dataframe tbody tr th {\n        vertical-align: top;\n    }\n\n    .dataframe thead th {\n        text-align: right;\n    }\n</style>\n<table border=\"1\" class=\"dataframe\">\n  <thead>\n    <tr style=\"text-align: right;\">\n      <th></th>\n      <th>Rank</th>\n      <th>NOC</th>\n      <th>Gold</th>\n      <th>Silver</th>\n      <th>Bronze</th>\n      <th>Total</th>\n    </tr>\n  </thead>\n  <tbody>\n    <tr>\n      <th>0</th>\n      <td>1</td>\n      <td>United States</td>\n      <td>46</td>\n      <td>37</td>\n      <td>38</td>\n      <td>121</td>\n    </tr>\n    <tr>\n      <th>1</th>\n      <td>2</td>\n      <td>Great Britain</td>\n      <td>27</td>\n      <td>23</td>\n      <td>17</td>\n      <td>67</td>\n    </tr>\n    <tr>\n      <th>2</th>\n      <td>3</td>\n      <td>China</td>\n      <td>26</td>\n      <td>18</td>\n      <td>26</td>\n      <td>70</td>\n    </tr>\n    <tr>\n      <th>3</th>\n      <td>4</td>\n      <td>Russia</td>\n      <td>19</td>\n      <td>17</td>\n      <td>20</td>\n      <td>56</td>\n    </tr>\n    <tr>\n      <th>4</th>\n      <td>5</td>\n      <td>Germany</td>\n      <td>17</td>\n      <td>10</td>\n      <td>15</td>\n      <td>42</td>\n    </tr>\n  </tbody>\n</table>\n</div>"
     },
     "execution_count": 27,
     "metadata": {},
     "output_type": "execute_result"
    }
   ],
   "source": [
    "summer_olympics_website[2].head()"
   ],
   "metadata": {
    "collapsed": false
   }
  },
  {
   "cell_type": "markdown",
   "source": [
    "## Problem D\n",
    "\n",
    "Extract the main table, “2016 Summer Olympics medal table”, and store it as a new Pandas DataFrame."
   ],
   "metadata": {
    "collapsed": false
   }
  },
  {
   "cell_type": "code",
   "execution_count": 28,
   "outputs": [
    {
     "data": {
      "text/plain": "  Rank            NOC  Gold  Silver  Bronze  Total\n0    1  United States    46      37      38    121\n1    2  Great Britain    27      23      17     67\n2    3          China    26      18      26     70\n3    4         Russia    19      17      20     56\n4    5        Germany    17      10      15     42",
      "text/html": "<div>\n<style scoped>\n    .dataframe tbody tr th:only-of-type {\n        vertical-align: middle;\n    }\n\n    .dataframe tbody tr th {\n        vertical-align: top;\n    }\n\n    .dataframe thead th {\n        text-align: right;\n    }\n</style>\n<table border=\"1\" class=\"dataframe\">\n  <thead>\n    <tr style=\"text-align: right;\">\n      <th></th>\n      <th>Rank</th>\n      <th>NOC</th>\n      <th>Gold</th>\n      <th>Silver</th>\n      <th>Bronze</th>\n      <th>Total</th>\n    </tr>\n  </thead>\n  <tbody>\n    <tr>\n      <th>0</th>\n      <td>1</td>\n      <td>United States</td>\n      <td>46</td>\n      <td>37</td>\n      <td>38</td>\n      <td>121</td>\n    </tr>\n    <tr>\n      <th>1</th>\n      <td>2</td>\n      <td>Great Britain</td>\n      <td>27</td>\n      <td>23</td>\n      <td>17</td>\n      <td>67</td>\n    </tr>\n    <tr>\n      <th>2</th>\n      <td>3</td>\n      <td>China</td>\n      <td>26</td>\n      <td>18</td>\n      <td>26</td>\n      <td>70</td>\n    </tr>\n    <tr>\n      <th>3</th>\n      <td>4</td>\n      <td>Russia</td>\n      <td>19</td>\n      <td>17</td>\n      <td>20</td>\n      <td>56</td>\n    </tr>\n    <tr>\n      <th>4</th>\n      <td>5</td>\n      <td>Germany</td>\n      <td>17</td>\n      <td>10</td>\n      <td>15</td>\n      <td>42</td>\n    </tr>\n  </tbody>\n</table>\n</div>"
     },
     "execution_count": 28,
     "metadata": {},
     "output_type": "execute_result"
    }
   ],
   "source": [
    "summer_olympics_table = summer_olympics_website[2]\n",
    "summer_olympics_table.head()"
   ],
   "metadata": {
    "collapsed": false
   }
  },
  {
   "cell_type": "markdown",
   "source": [
    "## Problem E\n",
    "\n",
    "Extract the TOP 20 countries from the medal table, as above, and store these rows as a new DataFrame."
   ],
   "metadata": {
    "collapsed": false
   }
  },
  {
   "cell_type": "code",
   "execution_count": 29,
   "outputs": [
    {
     "data": {
      "text/plain": "   Rank            NOC  Gold  Silver  Bronze  Total\n0     1  United States    46      37      38    121\n1     2  Great Britain    27      23      17     67\n2     3          China    26      18      26     70\n3     4         Russia    19      17      20     56\n4     5        Germany    17      10      15     42\n5     6          Japan    12       8      21     41\n6     7         France    10      18      14     42\n7     8    South Korea     9       3       9     21\n8     9          Italy     8      12       8     28\n9    10      Australia     8      11      10     29\n10   11    Netherlands     8       7       4     19\n11   12        Hungary     8       3       4     15\n12   13        Brazil*     7       6       6     19\n13   14          Spain     7       4       6     17\n14   15          Kenya     6       6       1     13\n15   16        Jamaica     6       3       2     11\n16   17        Croatia     5       3       2     10\n17   18           Cuba     5       2       4     11\n18   19    New Zealand     4       9       5     18\n19   20         Canada     4       3      15     22",
      "text/html": "<div>\n<style scoped>\n    .dataframe tbody tr th:only-of-type {\n        vertical-align: middle;\n    }\n\n    .dataframe tbody tr th {\n        vertical-align: top;\n    }\n\n    .dataframe thead th {\n        text-align: right;\n    }\n</style>\n<table border=\"1\" class=\"dataframe\">\n  <thead>\n    <tr style=\"text-align: right;\">\n      <th></th>\n      <th>Rank</th>\n      <th>NOC</th>\n      <th>Gold</th>\n      <th>Silver</th>\n      <th>Bronze</th>\n      <th>Total</th>\n    </tr>\n  </thead>\n  <tbody>\n    <tr>\n      <th>0</th>\n      <td>1</td>\n      <td>United States</td>\n      <td>46</td>\n      <td>37</td>\n      <td>38</td>\n      <td>121</td>\n    </tr>\n    <tr>\n      <th>1</th>\n      <td>2</td>\n      <td>Great Britain</td>\n      <td>27</td>\n      <td>23</td>\n      <td>17</td>\n      <td>67</td>\n    </tr>\n    <tr>\n      <th>2</th>\n      <td>3</td>\n      <td>China</td>\n      <td>26</td>\n      <td>18</td>\n      <td>26</td>\n      <td>70</td>\n    </tr>\n    <tr>\n      <th>3</th>\n      <td>4</td>\n      <td>Russia</td>\n      <td>19</td>\n      <td>17</td>\n      <td>20</td>\n      <td>56</td>\n    </tr>\n    <tr>\n      <th>4</th>\n      <td>5</td>\n      <td>Germany</td>\n      <td>17</td>\n      <td>10</td>\n      <td>15</td>\n      <td>42</td>\n    </tr>\n    <tr>\n      <th>5</th>\n      <td>6</td>\n      <td>Japan</td>\n      <td>12</td>\n      <td>8</td>\n      <td>21</td>\n      <td>41</td>\n    </tr>\n    <tr>\n      <th>6</th>\n      <td>7</td>\n      <td>France</td>\n      <td>10</td>\n      <td>18</td>\n      <td>14</td>\n      <td>42</td>\n    </tr>\n    <tr>\n      <th>7</th>\n      <td>8</td>\n      <td>South Korea</td>\n      <td>9</td>\n      <td>3</td>\n      <td>9</td>\n      <td>21</td>\n    </tr>\n    <tr>\n      <th>8</th>\n      <td>9</td>\n      <td>Italy</td>\n      <td>8</td>\n      <td>12</td>\n      <td>8</td>\n      <td>28</td>\n    </tr>\n    <tr>\n      <th>9</th>\n      <td>10</td>\n      <td>Australia</td>\n      <td>8</td>\n      <td>11</td>\n      <td>10</td>\n      <td>29</td>\n    </tr>\n    <tr>\n      <th>10</th>\n      <td>11</td>\n      <td>Netherlands</td>\n      <td>8</td>\n      <td>7</td>\n      <td>4</td>\n      <td>19</td>\n    </tr>\n    <tr>\n      <th>11</th>\n      <td>12</td>\n      <td>Hungary</td>\n      <td>8</td>\n      <td>3</td>\n      <td>4</td>\n      <td>15</td>\n    </tr>\n    <tr>\n      <th>12</th>\n      <td>13</td>\n      <td>Brazil*</td>\n      <td>7</td>\n      <td>6</td>\n      <td>6</td>\n      <td>19</td>\n    </tr>\n    <tr>\n      <th>13</th>\n      <td>14</td>\n      <td>Spain</td>\n      <td>7</td>\n      <td>4</td>\n      <td>6</td>\n      <td>17</td>\n    </tr>\n    <tr>\n      <th>14</th>\n      <td>15</td>\n      <td>Kenya</td>\n      <td>6</td>\n      <td>6</td>\n      <td>1</td>\n      <td>13</td>\n    </tr>\n    <tr>\n      <th>15</th>\n      <td>16</td>\n      <td>Jamaica</td>\n      <td>6</td>\n      <td>3</td>\n      <td>2</td>\n      <td>11</td>\n    </tr>\n    <tr>\n      <th>16</th>\n      <td>17</td>\n      <td>Croatia</td>\n      <td>5</td>\n      <td>3</td>\n      <td>2</td>\n      <td>10</td>\n    </tr>\n    <tr>\n      <th>17</th>\n      <td>18</td>\n      <td>Cuba</td>\n      <td>5</td>\n      <td>2</td>\n      <td>4</td>\n      <td>11</td>\n    </tr>\n    <tr>\n      <th>18</th>\n      <td>19</td>\n      <td>New Zealand</td>\n      <td>4</td>\n      <td>9</td>\n      <td>5</td>\n      <td>18</td>\n    </tr>\n    <tr>\n      <th>19</th>\n      <td>20</td>\n      <td>Canada</td>\n      <td>4</td>\n      <td>3</td>\n      <td>15</td>\n      <td>22</td>\n    </tr>\n  </tbody>\n</table>\n</div>"
     },
     "execution_count": 29,
     "metadata": {},
     "output_type": "execute_result"
    }
   ],
   "source": [
    "top_summer_olympics_medal_countries = summer_olympics_table.head(20)\n",
    "top_summer_olympics_medal_countries"
   ],
   "metadata": {
    "collapsed": false
   }
  },
  {
   "cell_type": "markdown",
   "source": [
    "# Bonus Problems"
   ],
   "metadata": {
    "collapsed": false
   }
  },
  {
   "cell_type": "markdown",
   "source": [
    "## Problem A\n",
    "\n",
    "Download the “Census Income” dataset (source : [https://archive.ics.uci.edu/ml/datasets/Census+Income](https://archive.ics.uci.edu/ml/datasets/Census+Income)) from\n",
    "the UCI Machine Learning Repository (in the “Data Folder”), and import it in Jupyter Notebook as a DataFrame.\n",
    "\n",
    "Explore the dataset using .shape, .info() and .describe(), exactly as you did in Problem 1 above. Do you spot anything interesting while exploring this dataset? Discuss amongst friends or talk to the Instructor, if you did."
   ],
   "metadata": {
    "collapsed": false
   }
  },
  {
   "cell_type": "code",
   "execution_count": 30,
   "outputs": [
    {
     "data": {
      "text/plain": "   0                  1       2           3   4                    5   \\\n0  39          State-gov   77516   Bachelors  13        Never-married   \n1  50   Self-emp-not-inc   83311   Bachelors  13   Married-civ-spouse   \n2  38            Private  215646     HS-grad   9             Divorced   \n3  53            Private  234721        11th   7   Married-civ-spouse   \n4  28            Private  338409   Bachelors  13   Married-civ-spouse   \n\n                   6               7       8        9     10  11  12  \\\n0        Adm-clerical   Not-in-family   White     Male  2174   0  40   \n1     Exec-managerial         Husband   White     Male     0   0  13   \n2   Handlers-cleaners   Not-in-family   White     Male     0   0  40   \n3   Handlers-cleaners         Husband   Black     Male     0   0  40   \n4      Prof-specialty            Wife   Black   Female     0   0  40   \n\n               13      14  \n0   United-States   <=50K  \n1   United-States   <=50K  \n2   United-States   <=50K  \n3   United-States   <=50K  \n4            Cuba   <=50K  ",
      "text/html": "<div>\n<style scoped>\n    .dataframe tbody tr th:only-of-type {\n        vertical-align: middle;\n    }\n\n    .dataframe tbody tr th {\n        vertical-align: top;\n    }\n\n    .dataframe thead th {\n        text-align: right;\n    }\n</style>\n<table border=\"1\" class=\"dataframe\">\n  <thead>\n    <tr style=\"text-align: right;\">\n      <th></th>\n      <th>0</th>\n      <th>1</th>\n      <th>2</th>\n      <th>3</th>\n      <th>4</th>\n      <th>5</th>\n      <th>6</th>\n      <th>7</th>\n      <th>8</th>\n      <th>9</th>\n      <th>10</th>\n      <th>11</th>\n      <th>12</th>\n      <th>13</th>\n      <th>14</th>\n    </tr>\n  </thead>\n  <tbody>\n    <tr>\n      <th>0</th>\n      <td>39</td>\n      <td>State-gov</td>\n      <td>77516</td>\n      <td>Bachelors</td>\n      <td>13</td>\n      <td>Never-married</td>\n      <td>Adm-clerical</td>\n      <td>Not-in-family</td>\n      <td>White</td>\n      <td>Male</td>\n      <td>2174</td>\n      <td>0</td>\n      <td>40</td>\n      <td>United-States</td>\n      <td>&lt;=50K</td>\n    </tr>\n    <tr>\n      <th>1</th>\n      <td>50</td>\n      <td>Self-emp-not-inc</td>\n      <td>83311</td>\n      <td>Bachelors</td>\n      <td>13</td>\n      <td>Married-civ-spouse</td>\n      <td>Exec-managerial</td>\n      <td>Husband</td>\n      <td>White</td>\n      <td>Male</td>\n      <td>0</td>\n      <td>0</td>\n      <td>13</td>\n      <td>United-States</td>\n      <td>&lt;=50K</td>\n    </tr>\n    <tr>\n      <th>2</th>\n      <td>38</td>\n      <td>Private</td>\n      <td>215646</td>\n      <td>HS-grad</td>\n      <td>9</td>\n      <td>Divorced</td>\n      <td>Handlers-cleaners</td>\n      <td>Not-in-family</td>\n      <td>White</td>\n      <td>Male</td>\n      <td>0</td>\n      <td>0</td>\n      <td>40</td>\n      <td>United-States</td>\n      <td>&lt;=50K</td>\n    </tr>\n    <tr>\n      <th>3</th>\n      <td>53</td>\n      <td>Private</td>\n      <td>234721</td>\n      <td>11th</td>\n      <td>7</td>\n      <td>Married-civ-spouse</td>\n      <td>Handlers-cleaners</td>\n      <td>Husband</td>\n      <td>Black</td>\n      <td>Male</td>\n      <td>0</td>\n      <td>0</td>\n      <td>40</td>\n      <td>United-States</td>\n      <td>&lt;=50K</td>\n    </tr>\n    <tr>\n      <th>4</th>\n      <td>28</td>\n      <td>Private</td>\n      <td>338409</td>\n      <td>Bachelors</td>\n      <td>13</td>\n      <td>Married-civ-spouse</td>\n      <td>Prof-specialty</td>\n      <td>Wife</td>\n      <td>Black</td>\n      <td>Female</td>\n      <td>0</td>\n      <td>0</td>\n      <td>40</td>\n      <td>Cuba</td>\n      <td>&lt;=50K</td>\n    </tr>\n  </tbody>\n</table>\n</div>"
     },
     "execution_count": 30,
     "metadata": {},
     "output_type": "execute_result"
    }
   ],
   "source": [
    "census_income = pd.read_table(\"adult.data\", sep=\",\", header=None)\n",
    "census_income.head()"
   ],
   "metadata": {
    "collapsed": false
   }
  },
  {
   "cell_type": "code",
   "execution_count": 31,
   "outputs": [
    {
     "name": "stdout",
     "output_type": "stream",
     "text": [
      "The shape of the data of census_income is (32561, 15)\n"
     ]
    }
   ],
   "source": [
    "print(\"The shape of the data of census_income is\", census_income.shape)"
   ],
   "metadata": {
    "collapsed": false
   }
  },
  {
   "cell_type": "code",
   "execution_count": 32,
   "outputs": [
    {
     "name": "stdout",
     "output_type": "stream",
     "text": [
      "<class 'pandas.core.frame.DataFrame'>\n",
      "RangeIndex: 32561 entries, 0 to 32560\n",
      "Data columns (total 15 columns):\n",
      " #   Column  Non-Null Count  Dtype \n",
      "---  ------  --------------  ----- \n",
      " 0   0       32561 non-null  int64 \n",
      " 1   1       32561 non-null  object\n",
      " 2   2       32561 non-null  int64 \n",
      " 3   3       32561 non-null  object\n",
      " 4   4       32561 non-null  int64 \n",
      " 5   5       32561 non-null  object\n",
      " 6   6       32561 non-null  object\n",
      " 7   7       32561 non-null  object\n",
      " 8   8       32561 non-null  object\n",
      " 9   9       32561 non-null  object\n",
      " 10  10      32561 non-null  int64 \n",
      " 11  11      32561 non-null  int64 \n",
      " 12  12      32561 non-null  int64 \n",
      " 13  13      32561 non-null  object\n",
      " 14  14      32561 non-null  object\n",
      "dtypes: int64(6), object(9)\n",
      "memory usage: 3.7+ MB\n"
     ]
    }
   ],
   "source": [
    "census_income.info()"
   ],
   "metadata": {
    "collapsed": false
   }
  },
  {
   "cell_type": "code",
   "execution_count": 33,
   "outputs": [
    {
     "data": {
      "text/plain": "                 0             2             4             10            11  \\\ncount  32561.000000  3.256100e+04  32561.000000  32561.000000  32561.000000   \nmean      38.581647  1.897784e+05     10.080679   1077.648844     87.303830   \nstd       13.640433  1.055500e+05      2.572720   7385.292085    402.960219   \nmin       17.000000  1.228500e+04      1.000000      0.000000      0.000000   \n25%       28.000000  1.178270e+05      9.000000      0.000000      0.000000   \n50%       37.000000  1.783560e+05     10.000000      0.000000      0.000000   \n75%       48.000000  2.370510e+05     12.000000      0.000000      0.000000   \nmax       90.000000  1.484705e+06     16.000000  99999.000000   4356.000000   \n\n                 12  \ncount  32561.000000  \nmean      40.437456  \nstd       12.347429  \nmin        1.000000  \n25%       40.000000  \n50%       40.000000  \n75%       45.000000  \nmax       99.000000  ",
      "text/html": "<div>\n<style scoped>\n    .dataframe tbody tr th:only-of-type {\n        vertical-align: middle;\n    }\n\n    .dataframe tbody tr th {\n        vertical-align: top;\n    }\n\n    .dataframe thead th {\n        text-align: right;\n    }\n</style>\n<table border=\"1\" class=\"dataframe\">\n  <thead>\n    <tr style=\"text-align: right;\">\n      <th></th>\n      <th>0</th>\n      <th>2</th>\n      <th>4</th>\n      <th>10</th>\n      <th>11</th>\n      <th>12</th>\n    </tr>\n  </thead>\n  <tbody>\n    <tr>\n      <th>count</th>\n      <td>32561.000000</td>\n      <td>3.256100e+04</td>\n      <td>32561.000000</td>\n      <td>32561.000000</td>\n      <td>32561.000000</td>\n      <td>32561.000000</td>\n    </tr>\n    <tr>\n      <th>mean</th>\n      <td>38.581647</td>\n      <td>1.897784e+05</td>\n      <td>10.080679</td>\n      <td>1077.648844</td>\n      <td>87.303830</td>\n      <td>40.437456</td>\n    </tr>\n    <tr>\n      <th>std</th>\n      <td>13.640433</td>\n      <td>1.055500e+05</td>\n      <td>2.572720</td>\n      <td>7385.292085</td>\n      <td>402.960219</td>\n      <td>12.347429</td>\n    </tr>\n    <tr>\n      <th>min</th>\n      <td>17.000000</td>\n      <td>1.228500e+04</td>\n      <td>1.000000</td>\n      <td>0.000000</td>\n      <td>0.000000</td>\n      <td>1.000000</td>\n    </tr>\n    <tr>\n      <th>25%</th>\n      <td>28.000000</td>\n      <td>1.178270e+05</td>\n      <td>9.000000</td>\n      <td>0.000000</td>\n      <td>0.000000</td>\n      <td>40.000000</td>\n    </tr>\n    <tr>\n      <th>50%</th>\n      <td>37.000000</td>\n      <td>1.783560e+05</td>\n      <td>10.000000</td>\n      <td>0.000000</td>\n      <td>0.000000</td>\n      <td>40.000000</td>\n    </tr>\n    <tr>\n      <th>75%</th>\n      <td>48.000000</td>\n      <td>2.370510e+05</td>\n      <td>12.000000</td>\n      <td>0.000000</td>\n      <td>0.000000</td>\n      <td>45.000000</td>\n    </tr>\n    <tr>\n      <th>max</th>\n      <td>90.000000</td>\n      <td>1.484705e+06</td>\n      <td>16.000000</td>\n      <td>99999.000000</td>\n      <td>4356.000000</td>\n      <td>99.000000</td>\n    </tr>\n  </tbody>\n</table>\n</div>"
     },
     "execution_count": 33,
     "metadata": {},
     "output_type": "execute_result"
    }
   ],
   "source": [
    "census_income.describe()"
   ],
   "metadata": {
    "collapsed": false
   }
  },
  {
   "cell_type": "markdown",
   "source": [
    "## Problem B\n",
    "\n",
    "Note that the Summer Olympic medal tally on Wikipedia follows a really nice structure for the URL, where you can simply change the year in [https://en.wikipedia.org/wiki/2016_Summer_Olympics_medal_table](https://en.wikipedia.org/wiki/2016_Summer_Olympics_medal_table) to fetch any Summer Olympic page. Try changing 2016 in the URL to 2012 or 2008 or 2004 to see for yourself. This allows us to fetch the Olympics medal table from all these years (in fact, any year) quite easily. Let’s try the following.\n",
    "\n",
    "Write a loop to extract the main tables, “20XX Summer Olympics medal table”, from 2000 to 2016, that is, for the five consecutive Olympics in 2000, 2004, 2008, 2012 and 2016. Store all five tables in respective DataFrames. Now, extract the TOP 20 countries from each of these medal tables, and store these rows as new DataFrames."
   ],
   "metadata": {
    "collapsed": false
   }
  },
  {
   "cell_type": "code",
   "execution_count": 34,
   "outputs": [
    {
     "data": {
      "text/plain": "   Rank             NOC  Gold  Silver  Bronze  Total\n0     1   United States    47      27      30    104\n1     2           China    39      31      22     92\n2     3  Great Britain*    29      18      18     65\n3     4          Russia    18      21      27     66\n4     5     South Korea    13       9       8     30\n5     6         Germany    11      20      13     44\n6     7          France    11      11      13     35\n7     8       Australia     8      15      12     35\n8     9           Italy     8       9      11     28\n9    10         Hungary     8       4       6     18\n10   11           Japan     7      14      17     38\n11   12            Iran     7       5       1     13\n12   13     Netherlands     6       6       8     20\n13   14     New Zealand     6       2       5     13\n14   15         Ukraine     5       4      10     19\n15   16            Cuba     5       3       7     15\n16   17           Spain     4      10       6     20\n17   18         Jamaica     4       5       3     12\n18   19  Czech Republic     4       3       4     11\n19   20    South Africa     4       1       1      6",
      "text/html": "<div>\n<style scoped>\n    .dataframe tbody tr th:only-of-type {\n        vertical-align: middle;\n    }\n\n    .dataframe tbody tr th {\n        vertical-align: top;\n    }\n\n    .dataframe thead th {\n        text-align: right;\n    }\n</style>\n<table border=\"1\" class=\"dataframe\">\n  <thead>\n    <tr style=\"text-align: right;\">\n      <th></th>\n      <th>Rank</th>\n      <th>NOC</th>\n      <th>Gold</th>\n      <th>Silver</th>\n      <th>Bronze</th>\n      <th>Total</th>\n    </tr>\n  </thead>\n  <tbody>\n    <tr>\n      <th>0</th>\n      <td>1</td>\n      <td>United States</td>\n      <td>47</td>\n      <td>27</td>\n      <td>30</td>\n      <td>104</td>\n    </tr>\n    <tr>\n      <th>1</th>\n      <td>2</td>\n      <td>China</td>\n      <td>39</td>\n      <td>31</td>\n      <td>22</td>\n      <td>92</td>\n    </tr>\n    <tr>\n      <th>2</th>\n      <td>3</td>\n      <td>Great Britain*</td>\n      <td>29</td>\n      <td>18</td>\n      <td>18</td>\n      <td>65</td>\n    </tr>\n    <tr>\n      <th>3</th>\n      <td>4</td>\n      <td>Russia</td>\n      <td>18</td>\n      <td>21</td>\n      <td>27</td>\n      <td>66</td>\n    </tr>\n    <tr>\n      <th>4</th>\n      <td>5</td>\n      <td>South Korea</td>\n      <td>13</td>\n      <td>9</td>\n      <td>8</td>\n      <td>30</td>\n    </tr>\n    <tr>\n      <th>5</th>\n      <td>6</td>\n      <td>Germany</td>\n      <td>11</td>\n      <td>20</td>\n      <td>13</td>\n      <td>44</td>\n    </tr>\n    <tr>\n      <th>6</th>\n      <td>7</td>\n      <td>France</td>\n      <td>11</td>\n      <td>11</td>\n      <td>13</td>\n      <td>35</td>\n    </tr>\n    <tr>\n      <th>7</th>\n      <td>8</td>\n      <td>Australia</td>\n      <td>8</td>\n      <td>15</td>\n      <td>12</td>\n      <td>35</td>\n    </tr>\n    <tr>\n      <th>8</th>\n      <td>9</td>\n      <td>Italy</td>\n      <td>8</td>\n      <td>9</td>\n      <td>11</td>\n      <td>28</td>\n    </tr>\n    <tr>\n      <th>9</th>\n      <td>10</td>\n      <td>Hungary</td>\n      <td>8</td>\n      <td>4</td>\n      <td>6</td>\n      <td>18</td>\n    </tr>\n    <tr>\n      <th>10</th>\n      <td>11</td>\n      <td>Japan</td>\n      <td>7</td>\n      <td>14</td>\n      <td>17</td>\n      <td>38</td>\n    </tr>\n    <tr>\n      <th>11</th>\n      <td>12</td>\n      <td>Iran</td>\n      <td>7</td>\n      <td>5</td>\n      <td>1</td>\n      <td>13</td>\n    </tr>\n    <tr>\n      <th>12</th>\n      <td>13</td>\n      <td>Netherlands</td>\n      <td>6</td>\n      <td>6</td>\n      <td>8</td>\n      <td>20</td>\n    </tr>\n    <tr>\n      <th>13</th>\n      <td>14</td>\n      <td>New Zealand</td>\n      <td>6</td>\n      <td>2</td>\n      <td>5</td>\n      <td>13</td>\n    </tr>\n    <tr>\n      <th>14</th>\n      <td>15</td>\n      <td>Ukraine</td>\n      <td>5</td>\n      <td>4</td>\n      <td>10</td>\n      <td>19</td>\n    </tr>\n    <tr>\n      <th>15</th>\n      <td>16</td>\n      <td>Cuba</td>\n      <td>5</td>\n      <td>3</td>\n      <td>7</td>\n      <td>15</td>\n    </tr>\n    <tr>\n      <th>16</th>\n      <td>17</td>\n      <td>Spain</td>\n      <td>4</td>\n      <td>10</td>\n      <td>6</td>\n      <td>20</td>\n    </tr>\n    <tr>\n      <th>17</th>\n      <td>18</td>\n      <td>Jamaica</td>\n      <td>4</td>\n      <td>5</td>\n      <td>3</td>\n      <td>12</td>\n    </tr>\n    <tr>\n      <th>18</th>\n      <td>19</td>\n      <td>Czech Republic</td>\n      <td>4</td>\n      <td>3</td>\n      <td>4</td>\n      <td>11</td>\n    </tr>\n    <tr>\n      <th>19</th>\n      <td>20</td>\n      <td>South Africa</td>\n      <td>4</td>\n      <td>1</td>\n      <td>1</td>\n      <td>6</td>\n    </tr>\n  </tbody>\n</table>\n</div>"
     },
     "execution_count": 34,
     "metadata": {},
     "output_type": "execute_result"
    }
   ],
   "source": [
    "summer_olympics_tables_from_2000_to_2016 = {}\n",
    "for year in range(2000, 2020, 4):\n",
    "    url = \"https://en.wikipedia.org/wiki/\" + str(year) + \"_Summer_Olympics_medal_table\"\n",
    "    summer_olympics_tables_from_2000_to_2016[year] = pd.read_html(url)[2].head(20)\n",
    "summer_olympics_tables_from_2000_to_2016[2012]"
   ],
   "metadata": {
    "collapsed": false
   }
  }
 ],
 "metadata": {
  "kernelspec": {
   "display_name": "Python 3 (ipykernel)",
   "language": "python",
   "name": "python3"
  },
  "language_info": {
   "codemirror_mode": {
    "name": "ipython",
    "version": 3
   },
   "file_extension": ".py",
   "mimetype": "text/x-python",
   "name": "python",
   "nbconvert_exporter": "python",
   "pygments_lexer": "ipython3",
   "version": "3.10.5"
  }
 },
 "nbformat": 4,
 "nbformat_minor": 5
}
